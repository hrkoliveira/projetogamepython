{
 "cells": [
  {
   "cell_type": "code",
   "execution_count": 1,
   "metadata": {},
   "outputs": [],
   "source": [
    "import random\n",
    "from os import system, name"
   ]
  },
  {
   "cell_type": "code",
   "execution_count": 2,
   "metadata": {},
   "outputs": [],
   "source": [
    "#Função para limpar a tela a cada execução.\n",
    "\n",
    "def limpa_tela():\n",
    "    #windonws\n",
    "    if name == 'nt':\n",
    "        _= system('cls')\n",
    "\n",
    "    # mac ou linux\n",
    "    else:\n",
    "        _= system('clear')"
   ]
  },
  {
   "cell_type": "code",
   "execution_count": null,
   "metadata": {},
   "outputs": [],
   "source": [
    "# Função\n",
    "\n",
    "def game():\n",
    "    limpa_tela()\n",
    "\n",
    "    print(\"\\nBem vindo (a) ao jogo da forca\")\n",
    "    print(\"Adivinhe a palavra abaixo:\\n\")\n",
    "\n",
    "    # Lista de palavras para o jogo\n",
    "    palavras = ['banana', 'abacate', 'uva', 'morango', 'laranja']\n",
    "\n",
    "    # Escolhe randomicamente uma palavra\n",
    "    palavra = random.choice(palavras)\n",
    "\n",
    "    # list comprehension\n",
    "    letras_descobertas = ['_' for letra in palavra]\n",
    "\n",
    "    # numeros de chances\n",
    "    chances = 6\n",
    "\n",
    "    # lista para as letras erradas\n",
    "    letras_erradas = []\n",
    "\n",
    "    # Loop enquanto número de chances for maior do que zero.\n",
    "\n",
    "    while chances >= 0:\n",
    "\n",
    "        print(\" \".join(letras_descobertas))\n",
    "        print(\"\\nChances restantes:\", chances)\n",
    "        print(\"Letras erradas:\", \" \".join(letras_erradas))\n",
    "\n",
    "        tentativa = input(\"\\nDigite uma letra: \").lower()\n",
    "\n",
    "        if tentativa in palavra:\n",
    "            index = 0\n",
    "\n",
    "            for letra in palavra:\n",
    "                if tentativa == letra:\n",
    "                    letras_descobertas[index] = letra\n",
    "                index += 1\n",
    "\n",
    "\n",
    "        else:\n",
    "            chances -= 1\n",
    "            letras_erradas.append(tentativa)\n",
    "\n",
    "        if \"_\" not in letras_descobertas:\n",
    "            print(\"\\nVocê venceu, a palavra era:\", palavra)\n",
    "            break\n",
    "\n",
    "    if \"_\" in letras_descobertas:\n",
    "        print(\"\\nVocê perdeu, a palavra era:\", palavra)\n",
    "\n",
    "\n",
    "# bloco main \n",
    "if __name__ == \"__main__\":\n",
    "    game()\n",
    "    print(\"\\nParabéns, voc~e está aprendendo a programar\\n\")       "
   ]
  }
 ],
 "metadata": {
  "kernelspec": {
   "display_name": "Python 3",
   "language": "python",
   "name": "python3"
  },
  "language_info": {
   "codemirror_mode": {
    "name": "ipython",
    "version": 3
   },
   "file_extension": ".py",
   "mimetype": "text/x-python",
   "name": "python",
   "nbconvert_exporter": "python",
   "pygments_lexer": "ipython3",
   "version": "3.11.4"
  }
 },
 "nbformat": 4,
 "nbformat_minor": 2
}
